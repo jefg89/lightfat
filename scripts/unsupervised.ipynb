{
 "cells": [
  {
   "attachments": {},
   "cell_type": "markdown",
   "metadata": {},
   "source": [
    "## Imports"
   ]
  },
  {
   "cell_type": "code",
   "execution_count": 16,
   "metadata": {},
   "outputs": [],
   "source": [
    "import numpy as np\n",
    "import matplotlib.pyplot as plt\n",
    "import os\n",
    "from os import read\n",
    "import pandas as pd\n",
    "import math\n",
    "\n",
    "def checkNotEmpty(input_array):\n",
    "    for x in input_array:\n",
    "        if float(x) > 0:\n",
    "            return True\n",
    "    return False\n",
    "\n",
    "def getAverage(input_array):\n",
    "    acc = 0.0\n",
    "    for x in input_array:\n",
    "        acc+=x\n",
    "    return acc / len(input_array)\n",
    "\n",
    "def getWindowFrameFromDir(source_dir, window_size):\n",
    "    cache_windows = []\n",
    "    ipc_windows = []\n",
    "    for subdir, dirs, files in os.walk(source_dir):\n",
    "        for dir in dirs:\n",
    "            cache = []\n",
    "            ipc = []\n",
    "            ipc_window = []\n",
    "            cache_window= []\n",
    "            for filename in os.listdir(os.path.join(subdir, dir)):\n",
    "                f = os.path.join(subdir, dir, filename)\n",
    "                actualfile = open(f,'r')\n",
    "                if (filename[:3] == \"ipc\"):\n",
    "                    ipc = actualfile.readlines()\n",
    "                else:\n",
    "                    cache = actualfile.readlines()\n",
    "            dipc = window_size-len(ipc)\n",
    "            dcache = window_size-len(cache)\n",
    "            if dipc > 0:\n",
    "                for x in range(dipc):\n",
    "                    ipc.append('0')\n",
    "            if dcache > 0:\n",
    "                for x in range(dcache):\n",
    "                    cache.append('0')\n",
    "            if (checkNotEmpty(cache) and checkNotEmpty(ipc)):\n",
    "                for x in range(0, window_size):\n",
    "                    ipc_window.append(float(ipc[x]))\n",
    "                for x in range(0, window_size):\n",
    "                    # let's normalize cache access to IPC\n",
    "                    cache_window.append(float(cache[x])/1000000)\n",
    "                cache_windows.append(getAverage(cache_window))\n",
    "                ipc_windows.append(getAverage(ipc_window))\n",
    "    dataframe = pd.DataFrame(list(zip(ipc_windows, cache_windows)), columns=['avg_ipc', 'avg_cache'])\n",
    "    return dataframe\n"
   ]
  },
  {
   "attachments": {},
   "cell_type": "markdown",
   "metadata": {},
   "source": [
    "## Data frame construction"
   ]
  },
  {
   "cell_type": "code",
   "execution_count": 89,
   "metadata": {},
   "outputs": [],
   "source": [
    "bench = \"../results/benchmarks/\" # change me if necessary\n",
    "normal = \"../results/custom_normal\"\n",
    "attack = \"../results/custom_attack/\"\n",
    "window_size = 50 # change me if necessary"
   ]
  },
  {
   "cell_type": "code",
   "execution_count": 87,
   "metadata": {},
   "outputs": [
    {
     "data": {
      "text/html": [
       "<div>\n",
       "<style scoped>\n",
       "    .dataframe tbody tr th:only-of-type {\n",
       "        vertical-align: middle;\n",
       "    }\n",
       "\n",
       "    .dataframe tbody tr th {\n",
       "        vertical-align: top;\n",
       "    }\n",
       "\n",
       "    .dataframe thead th {\n",
       "        text-align: right;\n",
       "    }\n",
       "</style>\n",
       "<table border=\"1\" class=\"dataframe\">\n",
       "  <thead>\n",
       "    <tr style=\"text-align: right;\">\n",
       "      <th></th>\n",
       "      <th>avg_ipc</th>\n",
       "      <th>avg_cache</th>\n",
       "    </tr>\n",
       "  </thead>\n",
       "  <tbody>\n",
       "    <tr>\n",
       "      <th>0</th>\n",
       "      <td>1.261</td>\n",
       "      <td>1.634147</td>\n",
       "    </tr>\n",
       "    <tr>\n",
       "      <th>1</th>\n",
       "      <td>1.790</td>\n",
       "      <td>1.002941</td>\n",
       "    </tr>\n",
       "    <tr>\n",
       "      <th>2</th>\n",
       "      <td>2.267</td>\n",
       "      <td>9.183417</td>\n",
       "    </tr>\n",
       "    <tr>\n",
       "      <th>3</th>\n",
       "      <td>0.644</td>\n",
       "      <td>4.697004</td>\n",
       "    </tr>\n",
       "    <tr>\n",
       "      <th>4</th>\n",
       "      <td>1.033</td>\n",
       "      <td>2.126906</td>\n",
       "    </tr>\n",
       "    <tr>\n",
       "      <th>...</th>\n",
       "      <td>...</td>\n",
       "      <td>...</td>\n",
       "    </tr>\n",
       "    <tr>\n",
       "      <th>1775</th>\n",
       "      <td>1.023</td>\n",
       "      <td>2.975180</td>\n",
       "    </tr>\n",
       "    <tr>\n",
       "      <th>1776</th>\n",
       "      <td>0.610</td>\n",
       "      <td>6.817950</td>\n",
       "    </tr>\n",
       "    <tr>\n",
       "      <th>1777</th>\n",
       "      <td>0.709</td>\n",
       "      <td>2.069494</td>\n",
       "    </tr>\n",
       "    <tr>\n",
       "      <th>1778</th>\n",
       "      <td>1.175</td>\n",
       "      <td>2.872858</td>\n",
       "    </tr>\n",
       "    <tr>\n",
       "      <th>1779</th>\n",
       "      <td>3.076</td>\n",
       "      <td>0.559900</td>\n",
       "    </tr>\n",
       "  </tbody>\n",
       "</table>\n",
       "<p>1780 rows × 2 columns</p>\n",
       "</div>"
      ],
      "text/plain": [
       "      avg_ipc  avg_cache\n",
       "0       1.261   1.634147\n",
       "1       1.790   1.002941\n",
       "2       2.267   9.183417\n",
       "3       0.644   4.697004\n",
       "4       1.033   2.126906\n",
       "...       ...        ...\n",
       "1775    1.023   2.975180\n",
       "1776    0.610   6.817950\n",
       "1777    0.709   2.069494\n",
       "1778    1.175   2.872858\n",
       "1779    3.076   0.559900\n",
       "\n",
       "[1780 rows x 2 columns]"
      ]
     },
     "execution_count": 87,
     "metadata": {},
     "output_type": "execute_result"
    }
   ],
   "source": [
    "df_bench  = getWindowFrameFromDir(bench,window_size)\n",
    "df_normal = getWindowFrameFromDir(normal,window_size)\n",
    "df_bench\n"
   ]
  },
  {
   "cell_type": "code",
   "execution_count": 88,
   "metadata": {},
   "outputs": [
    {
     "data": {
      "text/plain": [
       "<AxesSubplot: xlabel='avg_ipc', ylabel='Probability'>"
      ]
     },
     "execution_count": 88,
     "metadata": {},
     "output_type": "execute_result"
    },
    {
     "data": {
      "image/png": "[encoded data removed]",
      "text/plain": [
       "<Figure size 640x480 with 1 Axes>"
      ]
     },
     "metadata": {},
     "output_type": "display_data"
    }
   ],
   "source": [
    "df_attack = getWindowFrameFromDir(attack,window_size)\n",
    "import seaborn as sns\n",
    "sns.histplot(df_normal['avg_ipc'], kde=True, stat='probability')"
   ]
  },
  {
   "cell_type": "code",
   "execution_count": 20,
   "metadata": {},
   "outputs": [
    {
     "data": {
      "text/html": [
       "<div>\n",
       "<style scoped>\n",
       "    .dataframe tbody tr th:only-of-type {\n",
       "        vertical-align: middle;\n",
       "    }\n",
       "\n",
       "    .dataframe tbody tr th {\n",
       "        vertical-align: top;\n",
       "    }\n",
       "\n",
       "    .dataframe thead th {\n",
       "        text-align: right;\n",
       "    }\n",
       "</style>\n",
       "<table border=\"1\" class=\"dataframe\">\n",
       "  <thead>\n",
       "    <tr style=\"text-align: right;\">\n",
       "      <th></th>\n",
       "      <th>avg_ipc</th>\n",
       "      <th>avg_cache</th>\n",
       "    </tr>\n",
       "  </thead>\n",
       "  <tbody>\n",
       "    <tr>\n",
       "      <th>0</th>\n",
       "      <td>0.5588</td>\n",
       "      <td>0.334839</td>\n",
       "    </tr>\n",
       "    <tr>\n",
       "      <th>1</th>\n",
       "      <td>0.6014</td>\n",
       "      <td>0.262206</td>\n",
       "    </tr>\n",
       "    <tr>\n",
       "      <th>2</th>\n",
       "      <td>0.5930</td>\n",
       "      <td>0.249684</td>\n",
       "    </tr>\n",
       "    <tr>\n",
       "      <th>3</th>\n",
       "      <td>0.5950</td>\n",
       "      <td>0.252701</td>\n",
       "    </tr>\n",
       "    <tr>\n",
       "      <th>4</th>\n",
       "      <td>0.4730</td>\n",
       "      <td>0.310113</td>\n",
       "    </tr>\n",
       "    <tr>\n",
       "      <th>...</th>\n",
       "      <td>...</td>\n",
       "      <td>...</td>\n",
       "    </tr>\n",
       "    <tr>\n",
       "      <th>1050</th>\n",
       "      <td>0.1862</td>\n",
       "      <td>0.640915</td>\n",
       "    </tr>\n",
       "    <tr>\n",
       "      <th>1051</th>\n",
       "      <td>0.1750</td>\n",
       "      <td>1.108233</td>\n",
       "    </tr>\n",
       "    <tr>\n",
       "      <th>1052</th>\n",
       "      <td>0.1622</td>\n",
       "      <td>0.588146</td>\n",
       "    </tr>\n",
       "    <tr>\n",
       "      <th>1053</th>\n",
       "      <td>0.2222</td>\n",
       "      <td>1.003168</td>\n",
       "    </tr>\n",
       "    <tr>\n",
       "      <th>1054</th>\n",
       "      <td>0.2772</td>\n",
       "      <td>5.743880</td>\n",
       "    </tr>\n",
       "  </tbody>\n",
       "</table>\n",
       "<p>1055 rows × 2 columns</p>\n",
       "</div>"
      ],
      "text/plain": [
       "      avg_ipc  avg_cache\n",
       "0      0.5588   0.334839\n",
       "1      0.6014   0.262206\n",
       "2      0.5930   0.249684\n",
       "3      0.5950   0.252701\n",
       "4      0.4730   0.310113\n",
       "...       ...        ...\n",
       "1050   0.1862   0.640915\n",
       "1051   0.1750   1.108233\n",
       "1052   0.1622   0.588146\n",
       "1053   0.2222   1.003168\n",
       "1054   0.2772   5.743880\n",
       "\n",
       "[1055 rows x 2 columns]"
      ]
     },
     "execution_count": 20,
     "metadata": {},
     "output_type": "execute_result"
    }
   ],
   "source": [
    "merged_df = pd.concat([df_normal, df_bench[:527]], ignore_index=True)\n",
    "merged_df"
   ]
  },
  {
   "attachments": {},
   "cell_type": "markdown",
   "metadata": {},
   "source": [
    "## Unsupervised stuff"
   ]
  },
  {
   "attachments": {},
   "cell_type": "markdown",
   "metadata": {},
   "source": [
    "### Categories visualization"
   ]
  },
  {
   "cell_type": "code",
   "execution_count": 21,
   "metadata": {},
   "outputs": [
    {
     "data": {
      "image/png": "[encoded data removed]",
      "text/plain": [
       "<Figure size 640x480 with 1 Axes>"
      ]
     },
     "metadata": {},
     "output_type": "display_data"
    }
   ],
   "source": [
    "y_axis = merged_df[\"avg_ipc\"]  \n",
    "x_axis = merged_df[\"avg_cache\"]  \n",
    "\n",
    "# Plotting\n",
    "plt.scatter(x_axis, y_axis)\n",
    "plt.ylim(0,1.2)\n",
    "plt.show()"
   ]
  },
  {
   "attachments": {},
   "cell_type": "markdown",
   "metadata": {},
   "source": [
    "### K-means (2)"
   ]
  },
  {
   "cell_type": "code",
   "execution_count": 25,
   "metadata": {},
   "outputs": [
    {
     "name": "stdout",
     "output_type": "stream",
     "text": [
      "0.0\n"
     ]
    },
    {
     "name": "stderr",
     "output_type": "stream",
     "text": [
      "/home/jef/.local/lib/python3.8/site-packages/sklearn/cluster/_kmeans.py:870: FutureWarning: The default value of `n_init` will change from 10 to 'auto' in 1.4. Set the value of `n_init` explicitly to suppress the warning\n",
      "  warnings.warn(\n"
     ]
    }
   ],
   "source": [
    "from sklearn import datasets\n",
    "from sklearn.cluster import KMeans\n",
    "\n",
    "model = KMeans(n_clusters=2)\n",
    "\n",
    "# Fitting Model\n",
    "model.fit(merged_df)\n",
    "\n",
    "# Predicting using the whole dataset\n",
    "whole_prediction = model.predict(merged_df)\n",
    "attack_prediction = model.predict(df_attack)\n",
    "normal_prediction = model.predict(df_normal)\n",
    "bench_prediction = model.predict(df_bench)\n",
    "\n",
    "\n",
    "print(getAverage(attack_prediction))"
   ]
  },
  {
   "cell_type": "code",
   "execution_count": 31,
   "metadata": {},
   "outputs": [
    {
     "ename": "AttributeError",
     "evalue": "'TSNE' object has no attribute 'predict'",
     "output_type": "error",
     "traceback": [
      "\u001b[0;31m---------------------------------------------------------------------------\u001b[0m",
      "\u001b[0;31mAttributeError\u001b[0m                            Traceback (most recent call last)",
      "\u001b[1;32m/home/jef/lightfat/scripts/unsupervised.ipynb Cell 13\u001b[0m in \u001b[0;36m<cell line: 9>\u001b[0;34m()\u001b[0m\n\u001b[1;32m      <a href='vscode-notebook-cell://wsl%2Bubuntu/home/jef/lightfat/scripts/unsupervised.ipynb#X15sdnNjb2RlLXJlbW90ZQ%3D%3D?line=6'>7</a>\u001b[0m \u001b[39m# Fitting Model\u001b[39;00m\n\u001b[1;32m      <a href='vscode-notebook-cell://wsl%2Bubuntu/home/jef/lightfat/scripts/unsupervised.ipynb#X15sdnNjb2RlLXJlbW90ZQ%3D%3D?line=7'>8</a>\u001b[0m transformed \u001b[39m=\u001b[39m model\u001b[39m.\u001b[39mfit(merged_df)\n\u001b[0;32m----> <a href='vscode-notebook-cell://wsl%2Bubuntu/home/jef/lightfat/scripts/unsupervised.ipynb#X15sdnNjb2RlLXJlbW90ZQ%3D%3D?line=8'>9</a>\u001b[0m whole_prediction \u001b[39m=\u001b[39m model\u001b[39m.\u001b[39;49mpredict(merged_df)\n\u001b[1;32m     <a href='vscode-notebook-cell://wsl%2Bubuntu/home/jef/lightfat/scripts/unsupervised.ipynb#X15sdnNjb2RlLXJlbW90ZQ%3D%3D?line=9'>10</a>\u001b[0m attack_prediction \u001b[39m=\u001b[39m model\u001b[39m.\u001b[39mpredict(df_attack)\n\u001b[1;32m     <a href='vscode-notebook-cell://wsl%2Bubuntu/home/jef/lightfat/scripts/unsupervised.ipynb#X15sdnNjb2RlLXJlbW90ZQ%3D%3D?line=10'>11</a>\u001b[0m normal_prediction \u001b[39m=\u001b[39m model\u001b[39m.\u001b[39mpredict(df_normal)\n",
      "\u001b[0;31mAttributeError\u001b[0m: 'TSNE' object has no attribute 'predict'"
     ]
    }
   ],
   "source": [
    "from sklearn import datasets\n",
    "from sklearn.manifold import TSNE\n",
    "import matplotlib.pyplot as plt\n",
    "\n",
    "model = TSNE(learning_rate=100)\n",
    "\n",
    "# Fitting Model\n",
    "transformed = model.fit(merged_df)\n",
    "whole_prediction = model.predict(merged_df)\n",
    "attack_prediction = model.predict(df_attack)\n",
    "normal_prediction = model.predict(df_normal)\n",
    "bench_prediction = model.predict(df_bench)\n",
    "\n",
    "\n",
    "print(getAverage(attack_prediction))"
   ]
  }
 ],
 "metadata": {
  "kernelspec": {
   "display_name": "Python 3",
   "language": "python",
   "name": "python3"
  },
  "language_info": {
   "codemirror_mode": {
    "name": "ipython",
    "version": 3
   },
   "file_extension": ".py",
   "mimetype": "text/x-python",
   "name": "python",
   "nbconvert_exporter": "python",
   "pygments_lexer": "ipython3",
   "version": "3.8.10"
  },
  "orig_nbformat": 4,
  "vscode": {
   "interpreter": {
    "hash": "31f2aee4e71d21fbe5cf8b01ff0e069b9275f58929596ceb00d14d90e3e16cd6"
   }
  }
 },
 "nbformat": 4,
 "nbformat_minor": 2
}
