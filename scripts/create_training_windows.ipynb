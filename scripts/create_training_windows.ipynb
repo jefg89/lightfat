{
 "cells": [
  {
   "cell_type": "code",
   "execution_count": 4,
   "metadata": {},
   "outputs": [],
   "source": [
    "import numpy as np\n",
    "import matplotlib.pyplot as plt\n",
    "import os\n",
    "from os import read\n",
    "import pandas as pd\n",
    "import math"
   ]
  },
  {
   "cell_type": "code",
   "execution_count": 5,
   "metadata": {},
   "outputs": [],
   "source": [
    "def checkNotEmpty(input_array):\n",
    "    for x in input_array:\n",
    "        if float(x) > 0:\n",
    "            return True\n",
    "    return False"
   ]
  },
  {
   "cell_type": "markdown",
   "metadata": {},
   "source": [
    "## Reading the files\n",
    "\n"
   ]
  },
  {
   "cell_type": "code",
   "execution_count": 27,
   "metadata": {},
   "outputs": [],
   "source": [
    "results_dir = \"../results/custom_normal/\" # change me if necessary\n",
    "window_size = 10 # change me if necessary"
   ]
  },
  {
   "cell_type": "code",
   "execution_count": 28,
   "metadata": {},
   "outputs": [],
   "source": [
    "\n",
    "windows = []\n",
    "for subdir, dirs, files in os.walk(results_dir):\n",
    "    for dir in dirs:\n",
    "        cache = []\n",
    "        ipc = []\n",
    "        window = []\n",
    "        for filename in os.listdir(os.path.join(subdir, dir)):\n",
    "            f = os.path.join(subdir, dir, filename)\n",
    "            actualfile = open(f,'r')\n",
    "            if (filename[:3] == \"ipc\"):\n",
    "                ipc = actualfile.readlines()\n",
    "            else:\n",
    "                cache = actualfile.readlines()\n",
    "        for x in range(window_size-len(ipc)):\n",
    "            ipc.append('0')\n",
    "        for x in range(window_size-len(cache)):\n",
    "            cache.append('0')\n",
    "        if (checkNotEmpty(cache) and checkNotEmpty(ipc)):\n",
    "            for x in range(0, window_size):\n",
    "                window.append(float(ipc[x]))\n",
    "            for x in range(0, window_size):\n",
    "                # let's normalize cache access to IPC\n",
    "                window.append(float(cache[x])/1000000)\n",
    "            windows.append(window)"
   ]
  },
  {
   "cell_type": "code",
   "execution_count": 29,
   "metadata": {},
   "outputs": [
    {
     "name": "stdout",
     "output_type": "stream",
     "text": [
      "Extracted 501 valid windows \n",
      "\n"
     ]
    },
    {
     "data": {
      "text/plain": [
       "<AxesSubplot:>"
      ]
     },
     "execution_count": 29,
     "metadata": {},
     "output_type": "execute_result"
    },
    {
     "data": {
      "image/png": "[encoded data removed]",
      "text/plain": [
       "<Figure size 640x480 with 1 Axes>"
      ]
     },
     "metadata": {},
     "output_type": "display_data"
    }
   ],
   "source": [
    "# Plotting a window for testing purposes\n",
    "print(\"Extracted \" + str(len(windows)) + \" valid windows \\n\")\n",
    "df = pd.Series(data=windows[22])\n",
    "df.plot()"
   ]
  },
  {
   "cell_type": "markdown",
   "metadata": {},
   "source": [
    "## Labeling"
   ]
  },
  {
   "cell_type": "code",
   "execution_count": 31,
   "metadata": {},
   "outputs": [],
   "source": [
    "\n",
    "MODE = 'normal' # change this to 'attack' for attacker dataset\n",
    "extra_name = 'eval_only' # add some extra name here if you want to differentiate files with the same mode\n",
    "train_dir ='../training/' \n",
    "\n",
    "if not os.path.exists(train_dir):\n",
    "    os.makedirs(train_dir)\n",
    "outfile = open(train_dir + MODE + \"_\" + extra_name + \".csv\", \"w\")\n",
    "\n",
    "for c in range(window_size):\n",
    "    outfile.write(\"ipc_\" + str(c) + \",\")\n",
    "for c in range(window_size):\n",
    "    outfile.write(\"cache_\" + str(c) + \",\")\n",
    "outfile.write(\"verdict\\n\")\n",
    "\n",
    "for x in  range(len(windows)):\n",
    "    for y in range (len(windows[x])):\n",
    "        outfile.write(str(windows[x][y]))\n",
    "        outfile.write(\",\")\n",
    "    if MODE == 'normal':\n",
    "        outfile.write(\"1 \\n\")\n",
    "    else:\n",
    "         outfile.write(\"0 \\n\")"
   ]
  }
 ],
 "metadata": {
  "kernelspec": {
   "display_name": "Python 3.8.10 64-bit",
   "language": "python",
   "name": "python3"
  },
  "language_info": {
   "codemirror_mode": {
    "name": "ipython",
    "version": 3
   },
   "file_extension": ".py",
   "mimetype": "text/x-python",
   "name": "python",
   "nbconvert_exporter": "python",
   "pygments_lexer": "ipython3",
   "version": "3.8.10"
  },
  "orig_nbformat": 4,
  "vscode": {
   "interpreter": {
    "hash": "31f2aee4e71d21fbe5cf8b01ff0e069b9275f58929596ceb00d14d90e3e16cd6"
   }
  }
 },
 "nbformat": 4,
 "nbformat_minor": 2
}
