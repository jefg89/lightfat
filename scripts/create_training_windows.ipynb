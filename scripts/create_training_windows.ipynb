{
 "cells": [
  {
   "cell_type": "code",
   "execution_count": 1,
   "metadata": {},
   "outputs": [],
   "source": [
    "import numpy as np\n",
    "import matplotlib.pyplot as plt\n",
    "import os\n",
    "from os import read\n",
    "import pandas as pd\n",
    "import math"
   ]
  },
  {
   "cell_type": "code",
   "execution_count": 7,
   "metadata": {},
   "outputs": [],
   "source": [
    "def checkNotEmpty(input_array):\n",
    "    for x in input_array:\n",
    "        if float(x) > 0:\n",
    "            return True\n",
    "    print (\"Ignoring empty window\\n\")\n",
    "    return False"
   ]
  },
  {
   "cell_type": "markdown",
   "metadata": {},
   "source": [
    "## Reading the files\n",
    "\n"
   ]
  },
  {
   "cell_type": "code",
   "execution_count": 10,
   "metadata": {},
   "outputs": [],
   "source": [
    "results_dir = \"../results/benchmarks/\" # change me if necessary\n",
    "window_size = 10 # change me if necessary"
   ]
  },
  {
   "cell_type": "code",
   "execution_count": null,
   "metadata": {},
   "outputs": [],
   "source": [
    "\n",
    "windows = []\n",
    "for subdir, dirs, files in os.walk(results_dir):\n",
    "    for dir in dirs:\n",
    "        cache = []\n",
    "        ipc = []\n",
    "        window = []\n",
    "        for filename in os.listdir(os.path.join(subdir, dir)):\n",
    "            f = os.path.join(subdir, dir, filename)\n",
    "            actualfile = open(f,'r')\n",
    "            if (filename[:3] == \"ipc\"):\n",
    "                ipc = actualfile.readlines()\n",
    "            else:\n",
    "                cache = actualfile.readlines()\n",
    "        for x in range(window_size-len(ipc)):\n",
    "            ipc.append('0')\n",
    "        for x in range(window_size-len(cache)):\n",
    "            cache.append('0')\n",
    "        if (checkNotEmpty(cache) and checkNotEmpty(ipc)):\n",
    "            for x in range(0, window_size):\n",
    "                window.append(float(ipc[x]))\n",
    "            for x in range(0, window_size):\n",
    "                # let's normalize cache access to IPC\n",
    "                window.append(float(cache[x])/1000000)\n",
    "            windows.append(window)"
   ]
  },
  {
   "cell_type": "code",
   "execution_count": 6,
   "metadata": {},
   "outputs": [
    {
     "ename": "IndexError",
     "evalue": "list index out of range",
     "output_type": "error",
     "traceback": [
      "\u001b[0;31m---------------------------------------------------------------------------\u001b[0m",
      "\u001b[0;31mIndexError\u001b[0m                                Traceback (most recent call last)",
      "\u001b[1;32m/home/jef/serverfs/home/lightfat/scripts/create_training_windows.ipynb Cell 6\u001b[0m in \u001b[0;36m<cell line: 2>\u001b[0;34m()\u001b[0m\n\u001b[1;32m      <a href='vscode-notebook-cell://wsl%2Bubuntu/home/jef/serverfs/home/lightfat/scripts/create_training_windows.ipynb#W4sdnNjb2RlLXJlbW90ZQ%3D%3D?line=0'>1</a>\u001b[0m \u001b[39m# Plotting a window for testing purposes\u001b[39;00m\n\u001b[0;32m----> <a href='vscode-notebook-cell://wsl%2Bubuntu/home/jef/serverfs/home/lightfat/scripts/create_training_windows.ipynb#W4sdnNjb2RlLXJlbW90ZQ%3D%3D?line=1'>2</a>\u001b[0m df \u001b[39m=\u001b[39m pd\u001b[39m.\u001b[39mSeries(data\u001b[39m=\u001b[39mwindows[\u001b[39m1\u001b[39;49m])\n\u001b[1;32m      <a href='vscode-notebook-cell://wsl%2Bubuntu/home/jef/serverfs/home/lightfat/scripts/create_training_windows.ipynb#W4sdnNjb2RlLXJlbW90ZQ%3D%3D?line=2'>3</a>\u001b[0m df\u001b[39m.\u001b[39mplot()\n",
      "\u001b[0;31mIndexError\u001b[0m: list index out of range"
     ]
    }
   ],
   "source": [
    "# Plotting a window for testing purposes\n",
    "print(\"Extracted \" + str(len(windows) + \"valid windows\")\n",
    "df = pd.Series(data=windows[1])\n",
    "df.plot()"
   ]
  },
  {
   "cell_type": "markdown",
   "metadata": {},
   "source": [
    "## Labeling"
   ]
  },
  {
   "cell_type": "code",
   "execution_count": 25,
   "metadata": {},
   "outputs": [],
   "source": [
    "\n",
    "MODE = 'normal' # change this to 'attack' for attacker dataset\n",
    "extra_name = 'node_skipping' # add some extra name here if you want to differentiate files with the same mode\n",
    "train_dir ='../training/' \n",
    "\n",
    "if not os.path.exists(train_dir):\n",
    "    os.makedirs(train_dir)\n",
    "outfile = open(train_dir + MODE + \"_\" + extra_name + \".csv\", \"w\")\n",
    "\n",
    "for c in range(2*window_size):\n",
    "    outfile.write(\"dp_\" + str(c) + \",\")\n",
    "outfile.write(\"verdict\\n\")\n",
    "\n",
    "for x in  range(len(windows)):\n",
    "    for y in range (len(windows[x])):\n",
    "        outfile.write(str(windows[x][y]))\n",
    "        outfile.write(\",\")\n",
    "    if MODE == 'normal':\n",
    "        outfile.write(\"0 \\n\")\n",
    "    else:\n",
    "         outfile.write(\"1 \\n\")"
   ]
  }
 ],
 "metadata": {
  "kernelspec": {
   "display_name": "Python 3.8.10 64-bit",
   "language": "python",
   "name": "python3"
  },
  "language_info": {
   "codemirror_mode": {
    "name": "ipython",
    "version": 3
   },
   "file_extension": ".py",
   "mimetype": "text/x-python",
   "name": "python",
   "nbconvert_exporter": "python",
   "pygments_lexer": "ipython3",
   "version": "3.8.10"
  },
  "orig_nbformat": 4,
  "vscode": {
   "interpreter": {
    "hash": "31f2aee4e71d21fbe5cf8b01ff0e069b9275f58929596ceb00d14d90e3e16cd6"
   }
  }
 },
 "nbformat": 4,
 "nbformat_minor": 2
}
